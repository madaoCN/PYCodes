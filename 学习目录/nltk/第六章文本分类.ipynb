{
 "cells": [
  {
   "cell_type": "code",
   "execution_count": 1,
   "metadata": {
    "collapsed": true
   },
   "outputs": [
    {
     "data": {
      "text/plain": [
       "{'last_letter': 'k'}"
      ]
     },
     "execution_count": 1,
     "metadata": {},
     "output_type": "execute_result"
    }
   ],
   "source": [
    "#创建特征集\n",
    "def gender_features(word):\n",
    "    return {'last_letter':word[-1]}"
   ]
  },
  {
   "cell_type": "code",
   "execution_count": 44,
   "metadata": {},
   "outputs": [
    {
     "name": "stdout",
     "output_type": "stream",
     "text": [
      "female\n0.778\nMost Informative Features\n             last_letter = u'a'           female : male   =     35.4 : 1.0\n             last_letter = u'k'             male : female =     32.9 : 1.0\n             last_letter = u'f'             male : female =     16.1 : 1.0\n             last_letter = u'v'             male : female =     10.6 : 1.0\n             last_letter = u'p'             male : female =     10.6 : 1.0\nNone\n"
     ]
    }
   ],
   "source": [
    "from nltk.corpus import names\n",
    "import nltk\n",
    "from nltk.classify import apply_features\n",
    "import random\n",
    "\n",
    "names = ([(name, 'male') for name in names.words('male.txt')] +\n",
    "         [(name, 'female') for name in names.words('female.txt')])\n",
    "\n",
    "# random.shuffle(names)\n",
    "# names = []\n",
    "# for item in nameList:\n",
    "#     print item, type(item)\n",
    "#     names.append(item[0])\n",
    "random.shuffle(names)\n",
    "\n",
    "featuressets = [(gender_features(n), g) for n, g in names]\n",
    "# trainset, testset = featuressets[500:], featuressets[:500]\n",
    "trainset = apply_features(gender_features, names[500:])\n",
    "testset = apply_features(gender_features, names[:500])\n",
    "\n",
    "#创建朴素贝叶斯分类器\n",
    "classifier = nltk.NaiveBayesClassifier.train(trainset)\n",
    "\n",
    "print classifier.classify(gender_features('Mary'))\n",
    "\n",
    "print nltk.classify.accuracy(classifier, testset)#评估分类器\n",
    "\n",
    "print classifier.show_most_informative_features(5)"
   ]
  },
  {
   "cell_type": "code",
   "execution_count": 27,
   "metadata": {},
   "outputs": [],
   "source": [
    "#文档分类\n"
   ]
  },
  {
   "cell_type": "code",
   "execution_count": null,
   "metadata": {},
   "outputs": [],
   "source": [
    ""
   ]
  }
 ],
 "metadata": {
  "kernelspec": {
   "display_name": "Python 2",
   "language": "python",
   "name": "python2"
  },
  "language_info": {
   "codemirror_mode": {
    "name": "ipython",
    "version": 2.0
   },
   "file_extension": ".py",
   "mimetype": "text/x-python",
   "name": "python",
   "nbconvert_exporter": "python",
   "pygments_lexer": "ipython2",
   "version": "2.7.6"
  }
 },
 "nbformat": 4,
 "nbformat_minor": 0
}