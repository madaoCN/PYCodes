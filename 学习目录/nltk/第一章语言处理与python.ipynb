{
 "cells": [
  {
   "cell_type": "code",
   "execution_count": 2,
   "metadata": {
    "collapsed": true
   },
   "outputs": [
    {
     "name": "stdout",
     "output_type": "stream",
     "text": [
      "*** Introductory Examples for the NLTK Book ***\nLoading text1, ..., text9 and sent1, ..., sent9\nType the name of the text or sentence to view it.\nType: 'texts()' or 'sents()' to list the materials.\n"
     ]
    },
    {
     "name": "stdout",
     "output_type": "stream",
     "text": [
      "text1: Moby Dick by Herman Melville 1851\n"
     ]
    },
    {
     "name": "stdout",
     "output_type": "stream",
     "text": [
      "text2: Sense and Sensibility by Jane Austen 1811\ntext3: The Book of Genesis\n"
     ]
    },
    {
     "name": "stdout",
     "output_type": "stream",
     "text": [
      "text4: Inaugural Address Corpus\n"
     ]
    },
    {
     "name": "stdout",
     "output_type": "stream",
     "text": [
      "text5: Chat Corpus\ntext6: Monty Python and the Holy Grail\n"
     ]
    },
    {
     "name": "stdout",
     "output_type": "stream",
     "text": [
      "text7: Wall Street Journal\ntext8: Personals Corpus\ntext9: The Man Who Was Thursday by G . K . Chesterton 1908\n"
     ]
    }
   ],
   "source": [
    "from nltk.book import *"
   ]
  },
  {
   "cell_type": "code",
   "execution_count": 6,
   "metadata": {},
   "outputs": [
    {
     "name": "stdout",
     "output_type": "stream",
     "text": [
      "Displaying 18 of 18 matches:\nsending me to bed supperless ,-- my mother dragged me by the legs out of the c\ngnorant whim of his crazy , widowed mother , who died when he was only a twelv\ner counterpane -- God pity his poor mother !-- it will be the ruin of my house\neg here , and all of us , and every mother ' s son and soul of us belong ; the\ny well be regarded as that Egyptian mother , who bore offspring themselves pre\nhere . The whale - ship is the true mother of that now mighty colony . Moreove\narp knife from his girdle ; \" every mother ' s son of ye draw his knife , and \n about a foot across . Probably the mother during an important interval was sa\ne cut by the hunter ' s lance , the mother ' s pouring milk and blood rivallin\nught to relieve my old bed - ridden mother by part of my share of this whale .\n' t ,\" said the captain , \" but his mother did ; he was born with it . Oh , yo\nnd all his Sons -- how many , their mother only knows -- and under their immed\n cinders ; the house was sold ; the mother dived down into the long church - y\nlew close to Ahab . \" Are these thy Mother Carey ' s chickens , Perth ? they a\n art but my fiery father ; my sweet mother , I know not . Oh , cruel ! what ha\n stroke and caress him ; the step - mother world , so long cruel -- forbidding\nly wakes ; sits up in bed ; and his mother tells him of me , of cannibal old m\n grow . Oh , Stubb , I hope my poor mother ' s drawn my part - pay ere this ; \nNone\n"
     ]
    }
   ],
   "source": [
    "#搜索文本\n",
    "\n",
    "print(text1.concordance(\"mother\"))"
   ]
  },
  {
   "cell_type": "code",
   "execution_count": 8,
   "metadata": {
    "collapsed": false
   },
   "outputs": [
    {
     "name": "stderr",
     "output_type": "stream",
     "text": [
      "/usr/local/var/pyenv/versions/2.7.12/lib/python2.7/site-packages/nltk/draw/__init__.py:15: UserWarning: nltk.draw package not loaded (please install Tkinter library).\n  warnings.warn(\"nltk.draw package not loaded \"\n"
     ]
    },
    {
     "data": {
      "image/png": "[encoded data removed]",
      "text/plain": [
       "<matplotlib.figure.Figure at 0x1111564d0>"
      ]
     },
     "metadata": {},
     "output_type": "display_data"
    }
   ],
   "source": [
    "#离散图表示 判断词在文 中的位置\n",
    "text4.dispersion_plot([\"city\", \"mother\", \"American\"])"
   ]
  },
  {
   "cell_type": "code",
   "execution_count": 10,
   "metadata": {},
   "outputs": [
    {
     "ename": "TypeError",
     "evalue": "generate() takes exactly 2 arguments (1 given)",
     "traceback": [
      "\u001b[0;31m\u001b[0m",
      "\u001b[0;31mTypeError\u001b[0mTraceback (most recent call last)",
      "\u001b[0;32m<ipython-input-10-25931a0d818a>\u001b[0m in \u001b[0;36m<module>\u001b[0;34m()\u001b[0m\n\u001b[1;32m      1\u001b[0m \u001b[0;31m#产生一些随机文本\u001b[0m\u001b[0;34m\u001b[0m\u001b[0;34m\u001b[0m\u001b[0m\n\u001b[0;32m----> 2\u001b[0;31m \u001b[0;32mprint\u001b[0m\u001b[0;34m(\u001b[0m\u001b[0mtext3\u001b[0m\u001b[0;34m.\u001b[0m\u001b[0mgenerate\u001b[0m\u001b[0;34m(\u001b[0m\u001b[0;34m)\u001b[0m\u001b[0;34m)\u001b[0m\u001b[0;34m\u001b[0m\u001b[0m\n\u001b[0m",
      "\u001b[0;31mTypeError\u001b[0m: generate() takes exactly 2 arguments (1 given)"
     ],
     "output_type": "error"
    }
   ],
   "source": [
    "#产生一些随机文本 , Deprecate\n",
    "print(text3.generate())"
   ]
  },
  {
   "cell_type": "code",
   "execution_count": 11,
   "metadata": {},
   "outputs": [
    {
     "name": "stdout",
     "output_type": "stream",
     "text": [
      "16.0501972033\n"
     ]
    }
   ],
   "source": [
    "#计数词汇, 每个字平均被使用 了 16 次\n",
    "from __future__ import division\n",
    "print (len(text3) / len(set(text3)))"
   ]
  },
  {
   "cell_type": "code",
   "execution_count": 15,
   "metadata": {},
   "outputs": [
    {
     "name": "stdout",
     "output_type": "stream",
     "text": [
      "<FreqDist with 19317 samples and 260819 outcomes>\n[u'funereal', u'unscientific', u'divinely', u'foul', u'four', u'gag', u'prefix', u'woods', u'clotted', u'Duck', u'hanging', u'plaudits', u'woody', u'Until', u'marching', u'disobeying', u'canes', u'granting', u'advantage', u'Westers', u'insertion', u'DRYDEN', u'formless', u'Untried', u'superficially', u'Western', u'portentous', u'beacon', u'meadows', u'sinking', u'Ding', u'Spurn', u'treasuries', u'churned', u'oceans', u'powders', u'tinkerings', u'tantalizing', u'yellow', u'bolting', u'uncertain', u'stabbed', u'bringing', u'elevations', u'ferreting', u'believers', u'wooded', u'songster', u'uttering', u'scholar']\n"
     ]
    },
    {
     "data": {
      "image/png": "[encoded data removed]",
      "text/plain": [
       "<matplotlib.figure.Figure at 0x10cb29c90>"
      ]
     },
     "metadata": {},
     "output_type": "display_data"
    }
   ],
   "source": [
    "#频率分布, FreqDist 寻找《白鲸记》中最常见的 50 个词\n",
    "fdist1 = FreqDist(text1) \n",
    "print(fdist1)\n",
    "vocabulary1 = fdist1.keys()\n",
    "print(vocabulary1[:50])\n",
    "\n",
    "fdist1.plot(10, cumulative=True)"
   ]
  },
  {
   "cell_type": "code",
   "execution_count": 17,
   "metadata": {},
   "outputs": [
    {
     "name": "stdout",
     "output_type": "stream",
     "text": [
      "[u'#14-19teens', u'#talkcity_adults', u'((((((((((', u'........', u'Question', u'actually', u'anything', u'computer', u'cute.-ass', u'everyone', u'football', u'innocent', u'listening', u'remember', u'seriously', u'something', u'together', u'tomorrow', u'watching']\n"
     ]
    }
   ],
   "source": [
    "#聊天语料库中所有长度超过 7 个字符出现次数超过 7 次的词\n",
    "fdist5 = FreqDist(text5)\n",
    "sortItem = sorted([w for w in set(text5) if len(w) > 7 and fdist5[w] > 7])\n",
    "print(sortItem)"
   ]
  },
  {
   "cell_type": "code",
   "execution_count": 22,
   "metadata": {},
   "outputs": [
    {
     "name": "stdout",
     "output_type": "stream",
     "text": [
      "('more', 'is')\n('is', 'said')\n('said', 'than')\n('than', 'done')\n"
     ]
    },
    {
     "name": "stdout",
     "output_type": "stream",
     "text": [
      "United States; fellow citizens; four years; years ago; Federal\nGovernment; General Government; American people; Vice President; Old\nWorld; Almighty God; Fellow citizens; Chief Magistrate; Chief Justice;\nGod bless; every citizen; Indian tribes; public debt; one another;\nforeign nations; political parties\n"
     ]
    }
   ],
   "source": [
    "#词语搭配和双连词(bigrams)\n",
    "from nltk import bigrams\n",
    "bg = bigrams(['more', 'is', 'said', 'than', 'done'])\n",
    "for item in bg:\n",
    "    print(item)\n",
    "    \n",
    "#我们希 望找到比我们基于单个词的频率预期得到的更频繁出现的双连词\n",
    "text4.collocations()"
   ]
  },
  {
   "cell_type": "code",
   "execution_count": 32,
   "metadata": {},
   "outputs": [
    {
     "name": "stdout",
     "output_type": "stream",
     "text": [
      "[1, 2, 3, 4, 5, 6, 7, 8, 9, 10, 11, 12, 13, 14, 15, 16, 17, 18, 20]\n[(1, 47933), (2, 38513), (3, 50223), (4, 42345), (5, 26597), (6, 17111), (7, 14399), (8, 9966), (9, 6428), (10, 3528), (11, 1873), (12, 1053), (13, 567), (14, 177), (15, 70), (16, 22), (17, 12), (18, 1), (20, 1)]\n0.192558824319\n"
     ]
    }
   ],
   "source": [
    "#计数其他东西\n",
    "\n",
    "#通过创造一长串数字的链表的 FreqDist，其中每个数字是文 中对应词的长度\n",
    "fdist = FreqDist([len(w) for w in text1])\n",
    "print(fdist.keys())\n",
    "print(fdist.items())\n",
    "print(fdist.freq(3))"
   ]
  },
  {
   "cell_type": "markdown",
   "metadata": {},
   "source": [
    "### NLTK频率分布类中定义的函数\n",
    "* fdist = FreqDist(samples) 创建包 给定样 的频率分布\n",
    "* fdist.inc (sample) 增加样 \n",
    "* fdist['monstrous'] 计数给定样 出现的次数\n",
    "* fdist.freq('monstrous') 给定样 的频率\n",
    "* fdist.N() 样 总数\n",
    "* fdist.keys() 以频率递减顺序排序的样 链表\n",
    "* for sample in fdist: 以频率递减的顺序遍历样 \n",
    "* fdist.max() 数值最大的样 \n",
    "* fdist.tabulate() 绘制频率分布表\n",
    "* fdist.plot() 绘制频率分布图"
   ]
  },
  {
   "cell_type": "markdown",
   "metadata": {},
   "source": [
    "### 回到 Python:决策与控制\n",
    "\n",
    "1.5 自动理解自然语言\n",
    "> 词义消歧\n",
    "\n",
    "> 指代消解\n",
    "\n",
    "> 自动生成语言\n",
    "\n",
    "> 机器翻译\n",
    "\n"
   ]
  },
  {
   "cell_type": "code",
   "execution_count": 24,
   "metadata": {},
   "outputs": [],
   "source": [
    ""
   ]
  },
  {
   "cell_type": "code",
   "execution_count": null,
   "metadata": {},
   "outputs": [],
   "source": [
    ""
   ]
  }
 ],
 "metadata": {
  "kernelspec": {
   "display_name": "Python 2",
   "language": "python",
   "name": "python2"
  },
  "language_info": {
   "codemirror_mode": {
    "name": "ipython",
    "version": 2.0
   },
   "file_extension": ".py",
   "mimetype": "text/x-python",
   "name": "python",
   "nbconvert_exporter": "python",
   "pygments_lexer": "ipython2",
   "version": "2.7.6"
  }
 },
 "nbformat": 4,
 "nbformat_minor": 0
}